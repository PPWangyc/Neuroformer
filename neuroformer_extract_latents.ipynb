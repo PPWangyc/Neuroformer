{
 "cells": [
  {
   "cell_type": "code",
   "execution_count": 1,
   "metadata": {},
   "outputs": [
    {
     "name": "stderr",
     "output_type": "stream",
     "text": [
      "/local/home/antonis/.conda/envs/neuroformer_clean/lib/python3.11/site-packages/tqdm/auto.py:21: TqdmWarning: IProgress not found. Please update jupyter and ipywidgets. See https://ipywidgets.readthedocs.io/en/stable/user_install.html\n",
      "  from .autonotebook import tqdm as notebook_tqdm\n"
     ]
    },
    {
     "name": "stdout",
     "output_type": "stream",
     "text": [
      "Running in Jupyter\n",
      "CONTRASTIUVEEEEEEE False\n",
      "VISUAL: True\n",
      "PAST_STATE: True\n"
     ]
    },
    {
     "name": "stderr",
     "output_type": "stream",
     "text": [
      "11/22/2023 17:38:37 - INFO - neuroformer.model_neuroformer -   number of parameters: 2.510515e+07\n"
     ]
    },
    {
     "name": "stdout",
     "output_type": "stream",
     "text": [
      "256 9\n",
      " ///// <=----- Loading model from ./models/NF.15/Visnav_VR_Expt/lateral/Neuroformer/demo/(state_history=6,_state=6,_stimulus=6,_behavior=6,_self_att=6,_modalities=(n_behavior=25))/25 -----=> \\\\\\\n"
     ]
    }
   ],
   "source": [
    "import glob\n",
    "import os\n",
    "\n",
    "import sys\n",
    "import glob\n",
    "from pathlib import Path, PurePath\n",
    "path = Path.cwd()\n",
    "parent_path = path.parents[1]\n",
    "sys.path.append(str(PurePath(parent_path, 'neuroformer')))\n",
    "sys.path.append('neuroformer')\n",
    "\n",
    "import pandas as pd\n",
    "import numpy as np\n",
    "\n",
    "import numpy as np\n",
    "import torch\n",
    "import pandas as pd\n",
    "import matplotlib.pyplot as plt\n",
    "from scipy.stats import pearsonr\n",
    "from torch.utils.data.dataloader import DataLoader\n",
    "\n",
    "from neuroformer.model_neuroformer import load_model_and_tokenizer\n",
    "from neuroformer.utils import get_attr\n",
    "from neuroformer.utils import (set_seed, running_jupyter, \n",
    "                                 all_device, recursive_print,\n",
    "                                 create_modalities_dict)\n",
    "from neuroformer.datasets import load_visnav, load_V1AL\n",
    "\n",
    "parent_path = os.path.dirname(os.path.dirname(os.getcwd())) + \"/\"\n",
    "\n",
    "# set up logging\n",
    "import logging\n",
    "logging.basicConfig(\n",
    "        format=\"%(asctime)s - %(levelname)s - %(name)s -   %(message)s\",\n",
    "        datefmt=\"%m/%d/%Y %H:%M:%S\",\n",
    "        level=logging.INFO,\n",
    ")\n",
    "\n",
    "from neuroformer.default_args import DefaultArgs, parse_args\n",
    "\n",
    "if running_jupyter(): # or __name__ == \"__main__\":\n",
    "    print(\"Running in Jupyter\")\n",
    "    args = DefaultArgs()\n",
    "    # args.dataset = \"medial\"\n",
    "    # args.ckpt_path = \"./models/NF.15/Visnav_VR_Expt/medial/Neuroformer/predict_all_behavior/(state_history=6,_state=6,_stimulus=6,_behavior=6,_self_att=6,_modalities=(n_behavior=25))/25\"\n",
    "    \n",
    "    args.dataset = \"lateral\"\n",
    "    args.ckpt_path = \"./models/NF.15/Visnav_VR_Expt/lateral/Neuroformer/demo/(state_history=6,_state=6,_stimulus=6,_behavior=6,_self_att=6,_modalities=(n_behavior=25))/25\"\n",
    "    args.predict_modes = ['speed']\n",
    "else:\n",
    "    print(\"Running in terminal\")\n",
    "    args = parse_args()\n",
    "\n",
    "\n",
    "# SET SEED - VERY IMPORTANT\n",
    "set_seed(args.seed)\n",
    "\n",
    "print(f\"CONTRASTIVE {args.contrastive}\")\n",
    "print(f\"VISUAL: {args.visual}\")\n",
    "print(f\"PAST_STATE: {args.past_state}\")\n",
    "\n",
    "\n",
    "config, tokenizer, model = load_model_and_tokenizer(args.ckpt_path)"
   ]
  },
  {
   "cell_type": "code",
   "execution_count": 2,
   "metadata": {},
   "outputs": [
    {
     "name": "stdout",
     "output_type": "stream",
     "text": [
      "DATASET: lateral\n"
     ]
    }
   ],
   "source": [
    "\"\"\" \n",
    "\n",
    "-- DATA --\n",
    "neuroformer/data/OneCombo3_V1AL/\n",
    "df = response\n",
    "video_stack = stimulus\n",
    "DOWNLOAD DATA URL = https://drive.google.com/drive/folders/1jNvA4f-epdpRmeG9s2E-2Sfo-pwYbjeY?usp=sharing\n",
    "\n",
    "\n",
    "\"\"\"\n",
    "print(f\"DATASET: {args.dataset}\")\n",
    "if args.dataset in [\"lateral\", \"medial\"]:\n",
    "    data, intervals, train_intervals, \\\n",
    "    test_intervals, finetune_intervals, \\\n",
    "    callback = load_visnav(args.dataset, config, \n",
    "                           selection=config.selection if hasattr(config, \"selection\") else None)\n",
    "elif args.dataset == \"V1AL\":\n",
    "    data, intervals, train_intervals, \\\n",
    "    test_intervals, finetune_intervals, \\\n",
    "    callback = load_V1AL(config)\n",
    "\n",
    "spikes = data['spikes']\n",
    "stimulus = data['stimulus']"
   ]
  },
  {
   "cell_type": "code",
   "execution_count": 3,
   "metadata": {},
   "outputs": [
    {
     "data": {
      "text/plain": [
       "\" structure:\\n{\\n    type_of_modality:\\n        {name of modality: {'data':data, 'dt': dt, 'predict': True/False},\\n        ...\\n        }\\n    ...\\n}\\n\""
      ]
     },
     "execution_count": 3,
     "metadata": {},
     "output_type": "execute_result"
    }
   ],
   "source": [
    "window = config.window.curr\n",
    "window_prev = config.window.prev\n",
    "dt = config.resolution.dt\n",
    "\n",
    "\n",
    "# -------- #\n",
    "\n",
    "spikes_dict = {\n",
    "    \"ID\": data['spikes'],\n",
    "    \"Frames\": data['stimulus'],\n",
    "    \"Interval\": intervals,\n",
    "    \"dt\": config.resolution.dt,\n",
    "    \"id_block_size\": config.block_size.id,\n",
    "    \"prev_id_block_size\": config.block_size.prev_id,\n",
    "    \"frame_block_size\": config.block_size.frame,\n",
    "    \"window\": config.window.curr,\n",
    "    \"window_prev\": config.window.prev,\n",
    "    \"frame_window\": config.window.frame,\n",
    "}\n",
    "\n",
    "\"\"\" structure:\n",
    "{\n",
    "    type_of_modality:\n",
    "        {name of modality: {'data':data, 'dt': dt, 'predict': True/False},\n",
    "        ...\n",
    "        }\n",
    "    ...\n",
    "}\n",
    "\"\"\"\n",
    "\n"
   ]
  },
  {
   "cell_type": "code",
   "execution_count": 4,
   "metadata": {},
   "outputs": [
    {
     "name": "stdout",
     "output_type": "stream",
     "text": [
      "Min Interval: 0.1\n",
      "Intervals:  24092\n",
      "Window:  0.05\n",
      "Window Prev:  0.05\n",
      "Population Size:  2026\n",
      "ID Population Size:  2026\n",
      "DT Population Size:  9\n",
      "Using explicitly passed intervals\n",
      "Min Interval: 0.1\n",
      "Intervals:  5000\n",
      "Window:  0.05\n",
      "Window Prev:  0.05\n",
      "Population Size:  2026\n",
      "ID Population Size:  2026\n",
      "DT Population Size:  9\n",
      "Using explicitly passed intervals\n",
      "Min Interval: 0.1\n",
      "Intervals:  240\n",
      "Window:  0.05\n",
      "Window Prev:  0.05\n",
      "Population Size:  2026\n",
      "ID Population Size:  2026\n",
      "DT Population Size:  9\n",
      "Using explicitly passed intervals\n",
      "id_prev torch.Size([700]) torch.int64\n",
      "dt_prev torch.Size([700]) torch.float32\n",
      "pad_prev torch.Size([]) torch.int64\n",
      "id torch.Size([100]) torch.int64\n",
      "dt torch.Size([100]) torch.float32\n",
      "pad torch.Size([]) torch.int64\n",
      "interval torch.Size([]) torch.float32\n",
      "trial torch.Size([]) torch.int64\n",
      "frames torch.Size([1, 3, 30, 100]) torch.float32\n",
      "cid torch.Size([2]) torch.float32\n",
      "pid torch.Size([2]) torch.float32\n",
      "id torch.Size([2, 100]) torch.int64\n",
      "dt torch.Size([2, 100]) torch.int64\n"
     ]
    }
   ],
   "source": [
    "from neuroformer.data_utils import NFDataloader\n",
    "\n",
    "n_test_iters = 5000\n",
    "n_test_idx = np.random.choice(len(test_intervals), n_test_iters, replace=False)\n",
    "test_intervals = test_intervals[n_test_idx]\n",
    "\n",
    "modalities = create_modalities_dict(data, config.modalities) if hasattr(config, \"modalities\") else None\n",
    "frames = {'feats': stimulus, 'callback': callback, 'window': config.window.frame, 'dt': config.resolution.dt}\n",
    "\n",
    "train_dataset = NFDataloader(spikes_dict, tokenizer, config, dataset=args.dataset, \n",
    "                             frames=frames, intervals=train_intervals, modalities=modalities)\n",
    "test_dataset = NFDataloader(spikes_dict, tokenizer, config, dataset=args.dataset, \n",
    "                            frames=frames, intervals=test_intervals, modalities=modalities)\n",
    "finetune_dataset = NFDataloader(spikes_dict, tokenizer, config, dataset=args.dataset, \n",
    "                                frames=frames, intervals=finetune_intervals, modalities=modalities)\n",
    "\n",
    "    \n",
    "# print(f'train: {len(train_dataset)}, test: {len(test_dataset)}')\n",
    "iterable = iter(train_dataset)\n",
    "x, y = next(iterable)\n",
    "recursive_print(x)\n",
    "\n",
    "# Update the config\n",
    "config.id_vocab_size = tokenizer.ID_vocab_size\n",
    "\n",
    "# Create a DataLoader\n",
    "loader = DataLoader(test_dataset, batch_size=2, shuffle=True, num_workers=0)\n",
    "iterable = iter(loader)\n",
    "x, y = next(iterable)\n",
    "recursive_print(y)\n",
    "preds, features, loss = model(x, y)\n",
    "\n",
    "# Set training parameters\n",
    "MAX_EPOCHS = 300\n",
    "BATCH_SIZE = 32 * 5\n",
    "SHUFFLE = True\n",
    "\n",
    "if config.gru_only:\n",
    "    model_name = \"GRU\"\n",
    "elif config.mlp_only:\n",
    "    model_name = \"MLP\"\n",
    "elif config.gru2_only:\n",
    "    model_name = \"GRU_2.0\"\n",
    "else:\n",
    "    model_name = \"Neuroformer\"\n",
    "\n",
    "CKPT_PATH = args.ckpt_path\n",
    "\n",
    "# Define the parameters\n",
    "sample = True\n",
    "top_p = 0.95\n",
    "top_p_t = 0.95\n",
    "temp = 1.\n",
    "temp_t = 1.\n",
    "frame_end = 0\n",
    "true_past = args.true_past\n",
    "get_dt = True\n",
    "gpu = True\n",
    "pred_dt = True\n",
    "\n",
    "# # Run the prediction function\n",
    "# results_trial = generate_spikes(model, test_dataset, window, \n",
    "#                                 window_prev, tokenizer, \n",
    "#                                 sample=sample, top_p=top_p, top_p_t=top_p_t, \n",
    "#                                 temp=temp, temp_t=temp_t, frame_end=frame_end, \n",
    "#                                 true_past=true_past,\n",
    "#                                 get_dt=get_dt, gpu=gpu, pred_dt=pred_dt,\n",
    "#                                 plot_probs=False)\n",
    "\n",
    "# # Create a filename string with the parameters\n",
    "# filename = f\"results_trial_sample-{sample}_top_p-{top_p}_top_p_t-{top_p_t}_temp-{temp}_temp_t-{temp_t}_frame_end-{frame_end}_true_past-{true_past}_get_dt-{get_dt}_gpu-{gpu}_pred_dt-{pred_dt}.pkl\"\n",
    "\n",
    "# # Save the results in a pickle file\n",
    "# save_inference_path = os.path.join(CKPT_PATH, \"inference\")\n",
    "# if not os.path.exists(save_inference_path):\n",
    "#     os.makedirs(save_inference_path)\n",
    "\n",
    "# print(f\"Saving inference results in {os.path.join(save_inference_path, filename)}\")\n",
    "\n",
    "# with open(os.path.join(save_inference_path, filename), \"wb\") as f:\n",
    "#     pickle.dump(results_trial, f)\n"
   ]
  },
  {
   "cell_type": "code",
   "execution_count": 5,
   "metadata": {},
   "outputs": [],
   "source": [
    "preds, features, loss = model(x, y)"
   ]
  },
  {
   "cell_type": "code",
   "execution_count": 6,
   "metadata": {},
   "outputs": [
    {
     "name": "stdout",
     "output_type": "stream",
     "text": [
      "dict_keys(['id', 'frames', 'id_prev', 'raw_frames', 'clip', 'last_layer'])\n"
     ]
    }
   ],
   "source": [
    "print(features.keys())"
   ]
  },
  {
   "cell_type": "code",
   "execution_count": 7,
   "metadata": {},
   "outputs": [
    {
     "data": {
      "text/plain": [
       "(30117,)"
      ]
     },
     "execution_count": 7,
     "metadata": {},
     "output_type": "execute_result"
    }
   ],
   "source": [
    "data['speed'].shape"
   ]
  },
  {
   "cell_type": "code",
   "execution_count": 8,
   "metadata": {},
   "outputs": [
    {
     "name": "stderr",
     "output_type": "stream",
     "text": [
      "100%|██████████| 79/79 [01:52<00:00,  1.42s/it]\n"
     ]
    }
   ],
   "source": [
    "from tqdm import tqdm\n",
    "\n",
    "features['last_layer']\n",
    "device = torch.device(\"cuda\" if torch.cuda.is_available() else \"cpu\")\n",
    "model.to(device)\n",
    "\n",
    "features_model = {}\n",
    "features_model['last_layer'] = []\n",
    "features_model['interval'] = []\n",
    "\n",
    "model.eval()\n",
    "\n",
    "loader = DataLoader(test_dataset, batch_size=64, shuffle=False, num_workers=0)\n",
    "\n",
    "with torch.no_grad():\n",
    "    for i, (x, y) in tqdm(enumerate(loader), total=len(loader)):\n",
    "        x = all_device(x, device)\n",
    "        y = all_device(y, device)\n",
    "        preds, features, loss = model(x, y)\n",
    "        last_layer_features = torch.unbind(features['last_layer'], dim=0)\n",
    "        interval_features = torch.unbind(x['interval'], dim=0)\n",
    "        for last_layer, interval in zip(last_layer_features, interval_features):\n",
    "            features_model['last_layer'].append(last_layer.cpu().detach().numpy())\n",
    "            features_model['interval'].append(interval.cpu().detach().numpy())    "
   ]
  },
  {
   "cell_type": "code",
   "execution_count": 9,
   "metadata": {},
   "outputs": [
    {
     "name": "stdout",
     "output_type": "stream",
     "text": [
      "feats: (5000, 100, 256), speed_idx: (5000,)\n"
     ]
    }
   ],
   "source": [
    "from neuroformer.data_utils import get_frame_idx\n",
    "\n",
    "speed_idx = [get_frame_idx(i, 0.05) for i in features_model['interval']]\n",
    "speed_idx = np.array(speed_idx)\n",
    "speed = data['speed'][speed_idx]\n",
    "feats = np.array(features_model['last_layer'])\n",
    "\n",
    "print(f\"feats: {feats.shape}, speed_idx: {speed_idx.shape}\")"
   ]
  },
  {
   "cell_type": "code",
   "execution_count": 10,
   "metadata": {},
   "outputs": [
    {
     "name": "stdout",
     "output_type": "stream",
     "text": [
      "R2: 0.9999407484548073\n"
     ]
    }
   ],
   "source": [
    "from sklearn.linear_model import LinearRegression\n",
    "\n",
    "# Reshape feats to be 2-dimensional\n",
    "feats_reshaped = feats.reshape(feats.shape[0], -1)\n",
    "\n",
    "# Initialize the model\n",
    "reg = LinearRegression()\n",
    "\n",
    "# Fit the reg to the data\n",
    "reg.fit(feats_reshaped, speed)\n",
    "\n",
    "# Now you can use reg.predict() to make predictions\n",
    "predicted_speed = reg.predict(feats_reshaped)\n",
    "\n",
    "from sklearn.metrics import mean_squared_error, mean_absolute_error, r2_score\n",
    "\n",
    "# Calculate the actual speed\n",
    "actual_speed = speed\n",
    "\n",
    "# Calculate the metrics\n",
    "r2 = r2_score(actual_speed, predicted_speed)\n",
    "\n",
    "print(f\"R2: {r2}\")"
   ]
  },
  {
   "cell_type": "code",
   "execution_count": 11,
   "metadata": {},
   "outputs": [
    {
     "name": "stderr",
     "output_type": "stream",
     "text": [
      "100%|██████████| 79/79 [01:51<00:00,  1.41s/it]\n"
     ]
    }
   ],
   "source": [
    "from tqdm import tqdm\n",
    "\n",
    "# Initialize the dictionary to store the features\n",
    "features_model = {\n",
    "    'state': [],\n",
    "    'history': [],\n",
    "    'stimulus': [],\n",
    "    'interval': [],\n",
    "    'x_id': [],\n",
    "}\n",
    "\n",
    "# Move the model to the device\n",
    "device = torch.device(\"cuda\" if torch.cuda.is_available() else \"cpu\")\n",
    "model.to(device)\n",
    "\n",
    "# Set the model to evaluation mode\n",
    "model.eval()\n",
    "\n",
    "# Create the DataLoader\n",
    "loader = DataLoader(test_dataset, batch_size=64, shuffle=False, num_workers=0)\n",
    "\n",
    "# Define the hook function\n",
    "def hook(name):\n",
    "    def hook_fn(module, input, output):\n",
    "        features_model[name].append(output.cpu().detach().numpy())\n",
    "    return hook_fn\n",
    "\n",
    "# Attach the hook to the last layer of each block\n",
    "hook_handle_state = model.neural_visual_transformer.neural_state_blocks[0].register_forward_hook(hook('state'))\n",
    "hook_handle_history = model.neural_visual_transformer.neural_state_history_blocks[0].register_forward_hook(hook('history'))\n",
    "hook_handle_stimulus = model.neural_visual_transformer.neural_state_stimulus_blocks[0].register_forward_hook(hook('stimulus'))\n",
    "\n",
    "# Iterate over the DataLoader\n",
    "with torch.no_grad():\n",
    "    for i, (x, y) in tqdm(enumerate(loader), total=len(loader)):\n",
    "        x = all_device(x, device)\n",
    "        y = all_device(y, device)\n",
    "        \n",
    "        # Forward pass\n",
    "        preds, features, loss = model(x, y)\n",
    "        \n",
    "        # Collect the intervals\n",
    "        interval_features = torch.unbind(x['interval'], dim=0)\n",
    "        features_model['x_id'].append(x['id'].cpu().detach().numpy())\n",
    "        \n",
    "\n",
    "# Remove the hooks\n",
    "hook_handle_state.remove()\n",
    "hook_handle_history.remove()\n",
    "hook_handle_stimulus.remove()"
   ]
  },
  {
   "cell_type": "code",
   "execution_count": 12,
   "metadata": {},
   "outputs": [
    {
     "data": {
      "text/plain": [
       "<matplotlib.collections.PathCollection at 0x7fd6bcc54810>"
      ]
     },
     "execution_count": 12,
     "metadata": {},
     "output_type": "execute_result"
    },
    {
     "data": {
      "image/png": "[encoded data removed]",
      "text/plain": [
       "<Figure size 640x480 with 1 Axes>"
      ]
     },
     "metadata": {},
     "output_type": "display_data"
    }
   ],
   "source": [
    "plt.scatter(actual_speed, predicted_speed)"
   ]
  },
  {
   "cell_type": "code",
   "execution_count": 13,
   "metadata": {},
   "outputs": [
    {
     "data": {
      "text/plain": [
       "(64, 100)"
      ]
     },
     "execution_count": 13,
     "metadata": {},
     "output_type": "execute_result"
    }
   ],
   "source": [
    "features_model['x_id'][0].shape"
   ]
  },
  {
   "cell_type": "code",
   "execution_count": 14,
   "metadata": {},
   "outputs": [
    {
     "data": {
      "text/plain": [
       "(5000, 25600)"
      ]
     },
     "execution_count": 14,
     "metadata": {},
     "output_type": "execute_result"
    }
   ],
   "source": [
    "feats_reshaped.shape"
   ]
  },
  {
   "cell_type": "code",
   "execution_count": 15,
   "metadata": {},
   "outputs": [
    {
     "data": {
      "text/plain": [
       "Neuroformer(\n",
       "  (tok_emb): Embedding(2026, 256)\n",
       "  (temp_emb): LearntTemporalEmbedding(\n",
       "    (temp_emb): Sequential(\n",
       "      (0): Linear(in_features=1, out_features=128, bias=True)\n",
       "      (1): GELU(approximate='none')\n",
       "      (2): Linear(in_features=128, out_features=256, bias=True)\n",
       "      (3): Dropout(p=0.2, inplace=False)\n",
       "    )\n",
       "  )\n",
       "  (temp_emb_prev): LearntTemporalEmbedding(\n",
       "    (temp_emb): Sequential(\n",
       "      (0): Linear(in_features=1, out_features=128, bias=True)\n",
       "      (1): GELU(approximate='none')\n",
       "      (2): Linear(in_features=128, out_features=256, bias=True)\n",
       "      (3): Dropout(p=0.2, inplace=False)\n",
       "    )\n",
       "  )\n",
       "  (modality_embeddings): ModuleDict()\n",
       "  (modality_projection_heads): ModuleDict()\n",
       "  (frame_3d_emb): PositionalEncoding3D()\n",
       "  (id_drop): Dropout(p=0.2, inplace=False)\n",
       "  (im_drop): Dropout(p=0.2, inplace=False)\n",
       "  (drop): Dropout(p=0.2, inplace=False)\n",
       "  (video_encoder): VideoEncoder(\n",
       "    (conv_block): Sequential(\n",
       "      (0): Conv3d(1, 256, kernel_size=(3, 5, 5), stride=(3, 5, 5))\n",
       "      (1): Rearrange('b e t h w -> b t h w e')\n",
       "      (2): LayerNorm((256,), eps=1e-05, elementwise_affine=True)\n",
       "      (3): ReLU()\n",
       "    )\n",
       "  )\n",
       "  (feature_encoder): FeatureEncoder(\n",
       "    (neural_state_blocks): ModuleList(\n",
       "      (0-5): 6 x Block(\n",
       "        (ln1): LayerNorm((256,), eps=1e-05, elementwise_affine=True)\n",
       "        (ln2): LayerNorm((256,), eps=1e-05, elementwise_affine=True)\n",
       "        (attn): MultiheadAttention(\n",
       "          (query): Linear(in_features=256, out_features=256, bias=True)\n",
       "          (key): Linear(in_features=256, out_features=256, bias=True)\n",
       "          (value): Linear(in_features=256, out_features=256, bias=True)\n",
       "          (attn_drop): Dropout(p=0.2, inplace=False)\n",
       "          (resid_drop): Dropout(p=0.2, inplace=False)\n",
       "          (proj): Linear(in_features=256, out_features=256, bias=True)\n",
       "        )\n",
       "        (mlp): Sequential(\n",
       "          (0): Linear(in_features=256, out_features=1024, bias=True)\n",
       "          (1): GELU(approximate='none')\n",
       "          (2): Linear(in_features=1024, out_features=256, bias=True)\n",
       "          (3): Dropout(p=0.2, inplace=False)\n",
       "        )\n",
       "        (ln_f): LayerNorm((256,), eps=1e-05, elementwise_affine=True)\n",
       "      )\n",
       "    )\n",
       "    (frame_state_blocks): ModuleList(\n",
       "      (0-5): 6 x Block(\n",
       "        (ln1): LayerNorm((256,), eps=1e-05, elementwise_affine=True)\n",
       "        (ln2): LayerNorm((256,), eps=1e-05, elementwise_affine=True)\n",
       "        (attn): MultiheadAttention(\n",
       "          (query): Linear(in_features=256, out_features=256, bias=True)\n",
       "          (key): Linear(in_features=256, out_features=256, bias=True)\n",
       "          (value): Linear(in_features=256, out_features=256, bias=True)\n",
       "          (attn_drop): Dropout(p=0.2, inplace=False)\n",
       "          (resid_drop): Dropout(p=0.2, inplace=False)\n",
       "          (proj): Linear(in_features=256, out_features=256, bias=True)\n",
       "        )\n",
       "        (mlp): Sequential(\n",
       "          (0): Linear(in_features=256, out_features=1024, bias=True)\n",
       "          (1): GELU(approximate='none')\n",
       "          (2): Linear(in_features=1024, out_features=256, bias=True)\n",
       "          (3): Dropout(p=0.2, inplace=False)\n",
       "        )\n",
       "        (ln_f): LayerNorm((256,), eps=1e-05, elementwise_affine=True)\n",
       "      )\n",
       "    )\n",
       "  )\n",
       "  (clip): CLIP(\n",
       "    (proj): Linear(in_features=256, out_features=256, bias=False)\n",
       "  )\n",
       "  (neural_visual_transformer): MultimodalTransformer(\n",
       "    (modalities_blocks): ModuleDict()\n",
       "    (neural_state_blocks): ModuleList(\n",
       "      (0-5): 6 x Block(\n",
       "        (ln1): LayerNorm((256,), eps=1e-05, elementwise_affine=True)\n",
       "        (ln2): LayerNorm((256,), eps=1e-05, elementwise_affine=True)\n",
       "        (attn): MultiheadAttention(\n",
       "          (query): Linear(in_features=256, out_features=256, bias=True)\n",
       "          (key): Linear(in_features=256, out_features=256, bias=True)\n",
       "          (value): Linear(in_features=256, out_features=256, bias=True)\n",
       "          (attn_drop): Dropout(p=0.2, inplace=False)\n",
       "          (resid_drop): Dropout(p=0.2, inplace=False)\n",
       "          (proj): Linear(in_features=256, out_features=256, bias=True)\n",
       "        )\n",
       "        (mlp): Sequential(\n",
       "          (0): Linear(in_features=256, out_features=1024, bias=True)\n",
       "          (1): GELU(approximate='none')\n",
       "          (2): Linear(in_features=1024, out_features=256, bias=True)\n",
       "          (3): Dropout(p=0.2, inplace=False)\n",
       "        )\n",
       "        (ln_f): LayerNorm((256,), eps=1e-05, elementwise_affine=True)\n",
       "      )\n",
       "    )\n",
       "    (neural_state_history_blocks): ModuleList(\n",
       "      (0-5): 6 x Block(\n",
       "        (ln1): LayerNorm((256,), eps=1e-05, elementwise_affine=True)\n",
       "        (ln2): LayerNorm((256,), eps=1e-05, elementwise_affine=True)\n",
       "        (attn): MultiheadAttention(\n",
       "          (query): Linear(in_features=256, out_features=256, bias=True)\n",
       "          (key): Linear(in_features=256, out_features=256, bias=True)\n",
       "          (value): Linear(in_features=256, out_features=256, bias=True)\n",
       "          (attn_drop): Dropout(p=0.2, inplace=False)\n",
       "          (resid_drop): Dropout(p=0.2, inplace=False)\n",
       "          (proj): Linear(in_features=256, out_features=256, bias=True)\n",
       "        )\n",
       "        (mlp): Sequential(\n",
       "          (0): Linear(in_features=256, out_features=1024, bias=True)\n",
       "          (1): GELU(approximate='none')\n",
       "          (2): Linear(in_features=1024, out_features=256, bias=True)\n",
       "          (3): Dropout(p=0.2, inplace=False)\n",
       "        )\n",
       "        (ln_f): LayerNorm((256,), eps=1e-05, elementwise_affine=True)\n",
       "      )\n",
       "    )\n",
       "    (neural_state_stimulus_blocks): ModuleList(\n",
       "      (0-5): 6 x Block(\n",
       "        (ln1): LayerNorm((256,), eps=1e-05, elementwise_affine=True)\n",
       "        (ln2): LayerNorm((256,), eps=1e-05, elementwise_affine=True)\n",
       "        (attn): MultiheadAttention(\n",
       "          (query): Linear(in_features=256, out_features=256, bias=True)\n",
       "          (key): Linear(in_features=256, out_features=256, bias=True)\n",
       "          (value): Linear(in_features=256, out_features=256, bias=True)\n",
       "          (attn_drop): Dropout(p=0.2, inplace=False)\n",
       "          (resid_drop): Dropout(p=0.2, inplace=False)\n",
       "          (proj): Linear(in_features=256, out_features=256, bias=True)\n",
       "        )\n",
       "        (mlp): Sequential(\n",
       "          (0): Linear(in_features=256, out_features=1024, bias=True)\n",
       "          (1): GELU(approximate='none')\n",
       "          (2): Linear(in_features=1024, out_features=256, bias=True)\n",
       "          (3): Dropout(p=0.2, inplace=False)\n",
       "        )\n",
       "        (ln_f): LayerNorm((256,), eps=1e-05, elementwise_affine=True)\n",
       "      )\n",
       "    )\n",
       "    (ln_f): LayerNorm((256,), eps=1e-05, elementwise_affine=True)\n",
       "  )\n",
       "  (head_id): Linear(in_features=256, out_features=2026, bias=False)\n",
       "  (head_dt): Linear(in_features=256, out_features=9, bias=False)\n",
       ")"
      ]
     },
     "execution_count": 15,
     "metadata": {},
     "output_type": "execute_result"
    }
   ],
   "source": [
    "model"
   ]
  },
  {
   "cell_type": "code",
   "execution_count": 16,
   "metadata": {},
   "outputs": [],
   "source": [
    "title_mapping = {\n",
    "    'history': 'history',\n",
    "    'stimulus': 'history + stimulus',\n",
    "    'state': 'history + stimulus + state'\n",
    "}"
   ]
  },
  {
   "cell_type": "code",
   "execution_count": 17,
   "metadata": {},
   "outputs": [
    {
     "name": "stdout",
     "output_type": "stream",
     "text": [
      "Feature: history + stimulus + state\n",
      "R2: 0.635742823843209\n",
      "-----------------\n",
      "Feature: history\n",
      "R2: 0.22999429697899065\n",
      "-----------------\n",
      "Feature: history + stimulus\n",
      "R2: 0.5341393800678469\n",
      "-----------------\n"
     ]
    }
   ],
   "source": [
    "# fit models for each feature\n",
    "\n",
    "for feature in ['state', 'history', 'stimulus']:\n",
    "    print(f\"Feature: {title_mapping[feature]}\")\n",
    "    # Reshape feats to be 2-dimensional\n",
    "    \n",
    "    feats_reshaped = np.vstack([feat[:, -1].reshape(feat.shape[0], -1) for feat in features_model[feature]])\n",
    "\n",
    "    # Initialize the model\n",
    "    reg = LinearRegression()\n",
    "\n",
    "    # Fit the reg to the data\n",
    "    reg.fit(feats_reshaped, speed)\n",
    "\n",
    "    # Now you can use reg.predict() to make predictions\n",
    "    predicted_speed = reg.predict(feats_reshaped)\n",
    "\n",
    "    # Calculate the actual speed\n",
    "    actual_speed = speed\n",
    "\n",
    "    # Calculate the metrics\n",
    "    r2 = r2_score(actual_speed, predicted_speed)\n",
    "\n",
    "    print(f\"R2: {r2}\")\n",
    "    print(\"-----------------\")"
   ]
  },
  {
   "cell_type": "code",
   "execution_count": 19,
   "metadata": {},
   "outputs": [
    {
     "data": {
      "text/plain": [
       "<matplotlib.collections.PathCollection at 0x7fd6bcc74ed0>"
      ]
     },
     "execution_count": 19,
     "metadata": {},
     "output_type": "execute_result"
    },
    {
     "data": {
      "image/png": "[encoded data removed]",
      "text/plain": [
       "<Figure size 640x480 with 1 Axes>"
      ]
     },
     "metadata": {},
     "output_type": "display_data"
    }
   ],
   "source": [
    "plt.scatter(actual_speed, predicted_speed)"
   ]
  },
  {
   "cell_type": "code",
   "execution_count": 20,
   "metadata": {},
   "outputs": [
    {
     "name": "stdout",
     "output_type": "stream",
     "text": [
      "R2: 0.052081271436897336\n"
     ]
    }
   ],
   "source": [
    "rand_feats = np.random.rand(feats_reshaped.shape[0], feats_reshaped.shape[1])\n",
    "\n",
    "model_rand = LinearRegression()\n",
    "model_rand.fit(rand_feats, speed)\n",
    "pred_rand = model_rand.predict(rand_feats)\n",
    "\n",
    "r2_rand = r2_score(speed, pred_rand)\n",
    "print(f\"R2: {r2_rand}\")\n"
   ]
  }
 ],
 "metadata": {
  "kernelspec": {
   "display_name": "neuroformer",
   "language": "python",
   "name": "python3"
  },
  "language_info": {
   "codemirror_mode": {
    "name": "ipython",
    "version": 3
   },
   "file_extension": ".py",
   "mimetype": "text/x-python",
   "name": "python",
   "nbconvert_exporter": "python",
   "pygments_lexer": "ipython3",
   "version": "3.11.5"
  },
  "orig_nbformat": 4
 },
 "nbformat": 4,
 "nbformat_minor": 2
}
